{
  "nbformat": 4,
  "nbformat_minor": 0,
  "metadata": {
    "colab": {
      "name": "quantum2.ipynb",
      "provenance": [],
      "include_colab_link": true
    },
    "kernelspec": {
      "name": "python3",
      "display_name": "Python 3"
    },
    "accelerator": "GPU"
  },
  "cells": [
    {
      "cell_type": "markdown",
      "metadata": {
        "id": "view-in-github",
        "colab_type": "text"
      },
      "source": [
        "<a href=\"https://colab.research.google.com/github/sumitakeda/Finance-and-Technology/blob/master/quantum2.ipynb\" target=\"_parent\"><img src=\"https://colab.research.google.com/assets/colab-badge.svg\" alt=\"Open In Colab\"/></a>"
      ]
    },
    {
      "cell_type": "code",
      "metadata": {
        "id": "6gb8oJAoy1bW",
        "colab_type": "code",
        "colab": {
          "base_uri": "https://localhost:8080/",
          "height": 915
        },
        "outputId": "e3dc3a51-cb9b-4a50-8aa3-35bb07aae1db"
      },
      "source": [
        "!pip install qiskit"
      ],
      "execution_count": 16,
      "outputs": [
        {
          "output_type": "stream",
          "text": [
            "Requirement already satisfied: qiskit in /usr/local/lib/python3.6/dist-packages (0.13.0)\n",
            "Requirement already satisfied: qiskit-ignis==0.2.0 in /usr/local/lib/python3.6/dist-packages (from qiskit) (0.2.0)\n",
            "Requirement already satisfied: qiskit-aer==0.3.2 in /usr/local/lib/python3.6/dist-packages (from qiskit) (0.3.2)\n",
            "Requirement already satisfied: qiskit-aqua==0.6.1 in /usr/local/lib/python3.6/dist-packages (from qiskit) (0.6.1)\n",
            "Requirement already satisfied: qiskit-terra==0.10.0 in /usr/local/lib/python3.6/dist-packages (from qiskit) (0.10.0)\n",
            "Requirement already satisfied: qiskit-ibmq-provider==0.3.3 in /usr/local/lib/python3.6/dist-packages (from qiskit) (0.3.3)\n",
            "Requirement already satisfied: setuptools>=40.1.0 in /usr/local/lib/python3.6/dist-packages (from qiskit-ignis==0.2.0->qiskit) (41.4.0)\n",
            "Requirement already satisfied: scipy!=0.19.1,>=0.19 in /usr/local/lib/python3.6/dist-packages (from qiskit-ignis==0.2.0->qiskit) (1.3.1)\n",
            "Requirement already satisfied: numpy>=1.13 in /usr/local/lib/python3.6/dist-packages (from qiskit-ignis==0.2.0->qiskit) (1.16.5)\n",
            "Requirement already satisfied: jsonschema>=2.6 in /usr/local/lib/python3.6/dist-packages (from qiskit-aqua==0.6.1->qiskit) (2.6.0)\n",
            "Requirement already satisfied: networkx>=2.2 in /usr/local/lib/python3.6/dist-packages (from qiskit-aqua==0.6.1->qiskit) (2.4)\n",
            "Requirement already satisfied: cvxopt in /usr/local/lib/python3.6/dist-packages (from qiskit-aqua==0.6.1->qiskit) (1.2.3)\n",
            "Requirement already satisfied: pyscf; sys_platform != \"win32\" in /usr/local/lib/python3.6/dist-packages (from qiskit-aqua==0.6.1->qiskit) (1.6.4)\n",
            "Requirement already satisfied: psutil>=5 in /usr/local/lib/python3.6/dist-packages (from qiskit-aqua==0.6.1->qiskit) (5.4.8)\n",
            "Requirement already satisfied: fastdtw in /usr/local/lib/python3.6/dist-packages (from qiskit-aqua==0.6.1->qiskit) (0.3.4)\n",
            "Requirement already satisfied: dlx in /usr/local/lib/python3.6/dist-packages (from qiskit-aqua==0.6.1->qiskit) (1.0.4)\n",
            "Requirement already satisfied: quandl in /usr/local/lib/python3.6/dist-packages (from qiskit-aqua==0.6.1->qiskit) (3.4.8)\n",
            "Requirement already satisfied: sympy>=1.3 in /usr/local/lib/python3.6/dist-packages (from qiskit-aqua==0.6.1->qiskit) (1.4)\n",
            "Requirement already satisfied: scikit-learn>=0.20.0 in /usr/local/lib/python3.6/dist-packages (from qiskit-aqua==0.6.1->qiskit) (0.21.3)\n",
            "Requirement already satisfied: docplex in /usr/local/lib/python3.6/dist-packages (from qiskit-aqua==0.6.1->qiskit) (2.10.155)\n",
            "Requirement already satisfied: h5py in /usr/local/lib/python3.6/dist-packages (from qiskit-aqua==0.6.1->qiskit) (2.8.0)\n",
            "Requirement already satisfied: marshmallow-polyfield<6,>=5.7 in /usr/local/lib/python3.6/dist-packages (from qiskit-terra==0.10.0->qiskit) (5.7)\n",
            "Requirement already satisfied: marshmallow<4,>=3 in /usr/local/lib/python3.6/dist-packages (from qiskit-terra==0.10.0->qiskit) (3.2.1)\n",
            "Requirement already satisfied: ply>=3.10 in /usr/local/lib/python3.6/dist-packages (from qiskit-terra==0.10.0->qiskit) (3.11)\n",
            "Requirement already satisfied: requests-ntlm>=1.1.0 in /usr/local/lib/python3.6/dist-packages (from qiskit-ibmq-provider==0.3.3->qiskit) (1.1.0)\n",
            "Requirement already satisfied: nest-asyncio==1.0.0 in /usr/local/lib/python3.6/dist-packages (from qiskit-ibmq-provider==0.3.3->qiskit) (1.0.0)\n",
            "Requirement already satisfied: requests>=2.19 in /usr/local/lib/python3.6/dist-packages (from qiskit-ibmq-provider==0.3.3->qiskit) (2.21.0)\n",
            "Requirement already satisfied: websockets<8,>=7 in /usr/local/lib/python3.6/dist-packages (from qiskit-ibmq-provider==0.3.3->qiskit) (7.0)\n",
            "Requirement already satisfied: decorator>=4.3.0 in /usr/local/lib/python3.6/dist-packages (from networkx>=2.2->qiskit-aqua==0.6.1->qiskit) (4.4.0)\n",
            "Requirement already satisfied: ndg-httpsclient in /usr/local/lib/python3.6/dist-packages (from quandl->qiskit-aqua==0.6.1->qiskit) (0.5.1)\n",
            "Requirement already satisfied: pyasn1 in /usr/local/lib/python3.6/dist-packages (from quandl->qiskit-aqua==0.6.1->qiskit) (0.4.7)\n",
            "Requirement already satisfied: python-dateutil in /usr/local/lib/python3.6/dist-packages (from quandl->qiskit-aqua==0.6.1->qiskit) (2.5.3)\n",
            "Requirement already satisfied: pyOpenSSL in /usr/local/lib/python3.6/dist-packages (from quandl->qiskit-aqua==0.6.1->qiskit) (19.0.0)\n",
            "Requirement already satisfied: six in /usr/local/lib/python3.6/dist-packages (from quandl->qiskit-aqua==0.6.1->qiskit) (1.12.0)\n",
            "Requirement already satisfied: inflection>=0.3.1 in /usr/local/lib/python3.6/dist-packages (from quandl->qiskit-aqua==0.6.1->qiskit) (0.3.1)\n",
            "Requirement already satisfied: pandas>=0.14 in /usr/local/lib/python3.6/dist-packages (from quandl->qiskit-aqua==0.6.1->qiskit) (0.24.2)\n",
            "Requirement already satisfied: more-itertools<=5.0.0 in /usr/local/lib/python3.6/dist-packages (from quandl->qiskit-aqua==0.6.1->qiskit) (5.0.0)\n",
            "Requirement already satisfied: mpmath>=0.19 in /usr/local/lib/python3.6/dist-packages (from sympy>=1.3->qiskit-aqua==0.6.1->qiskit) (1.1.0)\n",
            "Requirement already satisfied: joblib>=0.11 in /usr/local/lib/python3.6/dist-packages (from scikit-learn>=0.20.0->qiskit-aqua==0.6.1->qiskit) (0.14.0)\n",
            "Requirement already satisfied: docloud>=1.0.369 in /usr/local/lib/python3.6/dist-packages (from docplex->qiskit-aqua==0.6.1->qiskit) (1.0.375)\n",
            "Requirement already satisfied: ntlm-auth>=1.0.2 in /usr/local/lib/python3.6/dist-packages (from requests-ntlm>=1.1.0->qiskit-ibmq-provider==0.3.3->qiskit) (1.4.0)\n",
            "Requirement already satisfied: cryptography>=1.3 in /usr/local/lib/python3.6/dist-packages (from requests-ntlm>=1.1.0->qiskit-ibmq-provider==0.3.3->qiskit) (2.8)\n",
            "Requirement already satisfied: chardet<3.1.0,>=3.0.2 in /usr/local/lib/python3.6/dist-packages (from requests>=2.19->qiskit-ibmq-provider==0.3.3->qiskit) (3.0.4)\n",
            "Requirement already satisfied: urllib3<1.25,>=1.21.1 in /usr/local/lib/python3.6/dist-packages (from requests>=2.19->qiskit-ibmq-provider==0.3.3->qiskit) (1.24.3)\n",
            "Requirement already satisfied: certifi>=2017.4.17 in /usr/local/lib/python3.6/dist-packages (from requests>=2.19->qiskit-ibmq-provider==0.3.3->qiskit) (2019.9.11)\n",
            "Requirement already satisfied: idna<2.9,>=2.5 in /usr/local/lib/python3.6/dist-packages (from requests>=2.19->qiskit-ibmq-provider==0.3.3->qiskit) (2.8)\n",
            "Requirement already satisfied: pytz>=2011k in /usr/local/lib/python3.6/dist-packages (from pandas>=0.14->quandl->qiskit-aqua==0.6.1->qiskit) (2018.9)\n",
            "Requirement already satisfied: cffi!=1.11.3,>=1.8 in /usr/local/lib/python3.6/dist-packages (from cryptography>=1.3->requests-ntlm>=1.1.0->qiskit-ibmq-provider==0.3.3->qiskit) (1.13.0)\n",
            "Requirement already satisfied: pycparser in /usr/local/lib/python3.6/dist-packages (from cffi!=1.11.3,>=1.8->cryptography>=1.3->requests-ntlm>=1.1.0->qiskit-ibmq-provider==0.3.3->qiskit) (2.19)\n"
          ],
          "name": "stdout"
        }
      ]
    },
    {
      "cell_type": "code",
      "metadata": {
        "id": "evu1lQzQzP4g",
        "colab_type": "code",
        "colab": {
          "base_uri": "https://localhost:8080/",
          "height": 340
        },
        "outputId": "d7dc91d3-0dfe-463a-e307-3321a0f49503"
      },
      "source": [
        "import numpy as np\n",
        "from qiskit import(\n",
        "  QuantumCircuit,\n",
        "  execute,\n",
        "  Aer)\n",
        "from qiskit.visualization import plot_histogram\n",
        "\n",
        "# Use Aer's qasm_simulator \n",
        "simulator = Aer.get_backend('qasm_simulator')\n",
        "\n",
        "# Create a Quantum Circuit acting on the q register\n",
        "circuit = QuantumCircuit(5, 5)\n",
        "\n",
        "# Add a H gate on qubit 0\n",
        "circuit.h(0)\n",
        "\n",
        "# Add a CX (CNOT) gate on control qubit 0 and target qubit 1\n",
        "circuit.cx(0, 1)\n",
        "\n",
        "# Map the quantum measurement to the classical bits\n",
        "circuit.measure([0,1,2,3,4], [0,1,2,3,4])\n",
        "# Draw the circuit\n",
        "circuit.draw()\n"
      ],
      "execution_count": 17,
      "outputs": [
        {
          "output_type": "execute_result",
          "data": {
            "text/html": [
              "<pre style=\"word-wrap: normal;white-space: pre;background: #fff0;line-height: 1.1;font-family: &quot;Courier New&quot;,Courier,monospace\">        ┌───┐        ┌─┐   \n",
              "q_0: |0>┤ H ├──■─────┤M├───\n",
              "        └───┘┌─┴─┐   └╥┘┌─┐\n",
              "q_1: |0>─────┤ X ├────╫─┤M├\n",
              "         ┌─┐ └───┘    ║ └╥┘\n",
              "q_2: |0>─┤M├──────────╫──╫─\n",
              "         └╥┘  ┌─┐     ║  ║ \n",
              "q_3: |0>──╫───┤M├─────╫──╫─\n",
              "          ║   └╥┘ ┌─┐ ║  ║ \n",
              "q_4: |0>──╫────╫──┤M├─╫──╫─\n",
              "          ║    ║  └╥┘ ║  ║ \n",
              " c_0: 0 ══╬════╬═══╬══╩══╬═\n",
              "          ║    ║   ║     ║ \n",
              " c_1: 0 ══╬════╬═══╬═════╩═\n",
              "          ║    ║   ║       \n",
              " c_2: 0 ══╩════╬═══╬═══════\n",
              "               ║   ║       \n",
              " c_3: 0 ═══════╩═══╬═══════\n",
              "                   ║       \n",
              " c_4: 0 ═══════════╩═══════\n",
              "                           </pre>"
            ],
            "text/plain": [
              "<qiskit.visualization.text.TextDrawing at 0x7fba918c4f98>"
            ]
          },
          "metadata": {
            "tags": []
          },
          "execution_count": 17
        }
      ]
    },
    {
      "cell_type": "code",
      "metadata": {
        "id": "lKak3grQ0j7x",
        "colab_type": "code",
        "colab": {
          "base_uri": "https://localhost:8080/",
          "height": 53
        },
        "outputId": "a9cb9c63-c182-46e0-c360-80179718304d"
      },
      "source": [
        "# Execute the circuit on the qasm simulator\n",
        "job = execute(circuit, simulator, shots=1000)\n",
        "\n",
        "# Grab results from the job\n",
        "result = job.result()\n",
        "\n",
        "# Returns counts\n",
        "counts = result.get_counts(circuit)\n",
        "print(\"\\nTotal count for 00011 and 00000 are:\",counts)\n"
      ],
      "execution_count": 18,
      "outputs": [
        {
          "output_type": "stream",
          "text": [
            "\n",
            "Total count for 00011 and 00000 are: {'00011': 481, '00000': 519}\n"
          ],
          "name": "stdout"
        }
      ]
    },
    {
      "cell_type": "code",
      "metadata": {
        "id": "tpaOCm2bzVzF",
        "colab_type": "code",
        "colab": {
          "base_uri": "https://localhost:8080/",
          "height": 359
        },
        "outputId": "6551992c-9c93-489f-f4b3-112e8d305300"
      },
      "source": [
        "plot_histogram(counts)"
      ],
      "execution_count": 19,
      "outputs": [
        {
          "output_type": "execute_result",
          "data": {
            "image/png": "[encoded data removed]",
            "text/plain": [
              "<Figure size 504x360 with 1 Axes>"
            ]
          },
          "metadata": {
            "tags": []
          },
          "execution_count": 19
        }
      ]
    }
  ]
}